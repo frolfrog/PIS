{
  "nbformat": 4,
  "nbformat_minor": 0,
  "metadata": {
    "colab": {
      "name": "Kolpakov_DZ1_2_PIS.ipynb",
      "provenance": [],
      "collapsed_sections": []
    },
    "kernelspec": {
      "name": "python3",
      "display_name": "Python 3"
    }
  },
  "cells": [
    {
      "cell_type": "markdown",
      "metadata": {
        "id": "1WNB0jH6AnbB",
        "colab_type": "text"
      },
      "source": [
        "# Цель работы. \n",
        "Подготовить собственный набор данных. Обучить сверточную нейронную сеть на основе собственного набора данных. \n",
        "# Часть 1\n",
        "Подготовка данных"
      ]
    },
    {
      "cell_type": "code",
      "metadata": {
        "id": "wGYmknAtP76s",
        "colab_type": "code",
        "colab": {}
      },
      "source": [
        "import numpy as np \n",
        "import pandas as pd\n",
        "import os\n",
        "for dirname, _, filenames in os.walk('/kaggle/input'):\n",
        "    for filename in filenames:\n",
        "        print(os.path.join(dirname, filename))"
      ],
      "execution_count": 99,
      "outputs": []
    },
    {
      "cell_type": "code",
      "metadata": {
        "id": "wF7wh_XiWUz2",
        "colab_type": "code",
        "colab": {}
      },
      "source": [
        "with zipfile.ZipFile('/content/drive/My Drive/Colab Notebooks/face.zip',\"r\") as zip_ref:\n",
        "    zip_ref.extractall() "
      ],
      "execution_count": 100,
      "outputs": []
    },
    {
      "cell_type": "code",
      "metadata": {
        "id": "1pipXNukEoYp",
        "colab_type": "code",
        "colab": {}
      },
      "source": [
        "input_folder = '../content/face'"
      ],
      "execution_count": 101,
      "outputs": []
    },
    {
      "cell_type": "code",
      "metadata": {
        "id": "mr8iggAfE-qZ",
        "colab_type": "code",
        "colab": {}
      },
      "source": [
        "import glob\n",
        "import pathlib\n",
        "from tensorflow.keras.applications import MobileNetV2\n",
        "import tensorflow as tf\n",
        "#Автоматическая настройка времени выполнения tf.data\n",
        "AUTOTUNE = tf.data.experimental.AUTOTUNE\n",
        "#Присваиваем переменную для нашего пути\n",
        "data_root = pathlib.Path(input_folder)"
      ],
      "execution_count": 102,
      "outputs": []
    },
    {
      "cell_type": "code",
      "metadata": {
        "id": "ne3I3LZPFB8-",
        "colab_type": "code",
        "colab": {
          "base_uri": "https://localhost:8080/",
          "height": 51
        },
        "outputId": "21f26c03-bd77-4dab-8d6f-a4332ae41339"
      },
      "source": [
        "#Просматриваем названия все директории, наши будущие классы\n",
        "for item in data_root.iterdir():\n",
        "    print(item)"
      ],
      "execution_count": 103,
      "outputs": [
        {
          "output_type": "stream",
          "text": [
            "../content/face/woman\n",
            "../content/face/man\n"
          ],
          "name": "stdout"
        }
      ]
    },
    {
      "cell_type": "code",
      "metadata": {
        "id": "TjQFdYA_FJWD",
        "colab_type": "code",
        "colab": {
          "base_uri": "https://localhost:8080/",
          "height": 34
        },
        "outputId": "a4d1dc2e-5f1b-44f6-bba0-7bcdbeb9b7dd"
      },
      "source": [
        "import random\n",
        "#Получим все пути наших картинок\n",
        "all_image_paths = list(data_root.glob('*/*'))\n",
        "\n",
        "#Определим в список все пути наших картинок\n",
        "all_image_paths = [str(path) for path in all_image_paths]\n",
        "\n",
        "#Перемешаем в случайном порядке\n",
        "random.shuffle(all_image_paths)\n",
        "\n",
        "#Получим общее кол-во наших картинок\n",
        "image_count = len(all_image_paths)\n",
        "image_count"
      ],
      "execution_count": 104,
      "outputs": [
        {
          "output_type": "execute_result",
          "data": {
            "text/plain": [
              "1961"
            ]
          },
          "metadata": {
            "tags": []
          },
          "execution_count": 104
        }
      ]
    },
    {
      "cell_type": "code",
      "metadata": {
        "id": "si1EHQG-FOPd",
        "colab_type": "code",
        "colab": {
          "base_uri": "https://localhost:8080/",
          "height": 187
        },
        "outputId": "540b7adb-da6f-434e-c515-ef1c6ae3cb7c"
      },
      "source": [
        "all_image_paths[:10]"
      ],
      "execution_count": 105,
      "outputs": [
        {
          "output_type": "execute_result",
          "data": {
            "text/plain": [
              "['../content/face/man/face_71.jpg',\n",
              " '../content/face/woman/face_50.jpg',\n",
              " '../content/face/man/face_1165.jpg',\n",
              " '../content/face/man/face_836.jpg',\n",
              " '../content/face/man/face_926.jpg',\n",
              " '../content/face/woman/face_52.jpg',\n",
              " '../content/face/woman/face_1159.jpg',\n",
              " '../content/face/man/face_959.jpg',\n",
              " '../content/face/man/face_4.jpg',\n",
              " '../content/face/woman/face_429.jpg']"
            ]
          },
          "metadata": {
            "tags": []
          },
          "execution_count": 105
        }
      ]
    },
    {
      "cell_type": "code",
      "metadata": {
        "id": "GU8RGtqIFRmZ",
        "colab_type": "code",
        "colab": {
          "base_uri": "https://localhost:8080/",
          "height": 34
        },
        "outputId": "ab4efdf5-dee0-461e-b398-f199f74947ea"
      },
      "source": [
        "#Выведем в список все наши классы\n",
        "label_names = sorted(item.name for item in data_root.glob('*/') if item.is_dir())\n",
        "label_names"
      ],
      "execution_count": 106,
      "outputs": [
        {
          "output_type": "execute_result",
          "data": {
            "text/plain": [
              "['man', 'woman']"
            ]
          },
          "metadata": {
            "tags": []
          },
          "execution_count": 106
        }
      ]
    },
    {
      "cell_type": "code",
      "metadata": {
        "id": "E4bbAfTCFVa2",
        "colab_type": "code",
        "colab": {
          "base_uri": "https://localhost:8080/",
          "height": 34
        },
        "outputId": "1762d408-5ae0-4f9a-f0d8-8a6ad799b989"
      },
      "source": [
        "#Присвоим индексы нашим классам\n",
        "label_to_index = dict((name, index) for index, name in enumerate(label_names))\n",
        "label_to_index"
      ],
      "execution_count": 107,
      "outputs": [
        {
          "output_type": "execute_result",
          "data": {
            "text/plain": [
              "{'man': 0, 'woman': 1}"
            ]
          },
          "metadata": {
            "tags": []
          },
          "execution_count": 107
        }
      ]
    },
    {
      "cell_type": "code",
      "metadata": {
        "id": "RA7VTBeeFYav",
        "colab_type": "code",
        "colab": {
          "base_uri": "https://localhost:8080/",
          "height": 34
        },
        "outputId": "a0c6244a-6009-4ede-c96c-fda8e5341a44"
      },
      "source": [
        "#Присвоим индекс каждого класса к каждой картинке относящиеся к этому классу\n",
        "all_image_labels = [label_to_index[pathlib.Path(path).parent.name]\n",
        "                    for path in all_image_paths]\n",
        "\n",
        "#Выведем последние 6 индекса\n",
        "print(\"First 6 labels indices: \", all_image_labels[:6])"
      ],
      "execution_count": 108,
      "outputs": [
        {
          "output_type": "stream",
          "text": [
            "First 6 labels indices:  [0, 1, 0, 0, 0, 1]\n"
          ],
          "name": "stdout"
        }
      ]
    },
    {
      "cell_type": "code",
      "metadata": {
        "id": "ZvnxTibWFhut",
        "colab_type": "code",
        "colab": {
          "base_uri": "https://localhost:8080/",
          "height": 34
        },
        "outputId": "ac182433-0520-4ac1-897d-b317df417354"
      },
      "source": [
        "img_path = all_image_paths[1]\n",
        "img_path"
      ],
      "execution_count": 109,
      "outputs": [
        {
          "output_type": "execute_result",
          "data": {
            "text/plain": [
              "'../content/face/woman/face_50.jpg'"
            ]
          },
          "metadata": {
            "tags": []
          },
          "execution_count": 109
        }
      ]
    },
    {
      "cell_type": "code",
      "metadata": {
        "id": "_ZnmxImPFqZ3",
        "colab_type": "code",
        "colab": {
          "base_uri": "https://localhost:8080/",
          "height": 34
        },
        "outputId": "8bfed8a0-9ed3-4d6f-fafe-78c06da4669a"
      },
      "source": [
        "\n",
        "#Сырые данные\n",
        "img_raw = tf.io.read_file(img_path)\n",
        "print(repr(img_raw)[:100]+\"...\")"
      ],
      "execution_count": 110,
      "outputs": [
        {
          "output_type": "stream",
          "text": [
            "<tf.Tensor: shape=(), dtype=string, numpy=b'\\xff\\xd8\\xff\\xe0\\x00\\x10JFIF\\x00\\x01\\x01\\x00\\x00\\x01\\x00...\n"
          ],
          "name": "stdout"
        }
      ]
    },
    {
      "cell_type": "code",
      "metadata": {
        "id": "yVRV-TI6F7Rf",
        "colab_type": "code",
        "colab": {
          "base_uri": "https://localhost:8080/",
          "height": 51
        },
        "outputId": "bed23cb9-f289-4189-94a6-e558f2afce2f"
      },
      "source": [
        "#Преобразование в тензор изображения\n",
        "img_tensor = tf.image.decode_image(img_raw)\n",
        "\n",
        "print(img_tensor.shape)\n",
        "print(img_tensor.dtype)"
      ],
      "execution_count": 111,
      "outputs": [
        {
          "output_type": "stream",
          "text": [
            "(155, 124, 3)\n",
            "<dtype: 'uint8'>\n"
          ],
          "name": "stdout"
        }
      ]
    },
    {
      "cell_type": "code",
      "metadata": {
        "id": "bwjzDpORGAvG",
        "colab_type": "code",
        "colab": {
          "base_uri": "https://localhost:8080/",
          "height": 68
        },
        "outputId": "70dac598-44cb-4d30-9255-1e8e5a16bea8"
      },
      "source": [
        "#Установим размер для нашей модели\n",
        "img_final = tf.image.resize(img_tensor, [102, 80])\n",
        "img_final = img_final/255.0\n",
        "print(img_final.shape)\n",
        "print(img_final.numpy().min())\n",
        "print(img_final.numpy().max())"
      ],
      "execution_count": 112,
      "outputs": [
        {
          "output_type": "stream",
          "text": [
            "(102, 80, 3)\n",
            "0.0\n",
            "1.0\n"
          ],
          "name": "stdout"
        }
      ]
    },
    {
      "cell_type": "code",
      "metadata": {
        "id": "nH7GSJEPGJ2T",
        "colab_type": "code",
        "colab": {}
      },
      "source": [
        "#Функция декодирования и изменения размера для нашей модели\n",
        "def preprocess_image(image):\n",
        "    image = tf.image.decode_jpeg(image, channels=3)\n",
        "    image = tf.image.resize(image, [128, 128])\n",
        "    image /= 255.0  # normalize to [0,1] range\n",
        "\n",
        "    return image"
      ],
      "execution_count": 113,
      "outputs": []
    },
    {
      "cell_type": "code",
      "metadata": {
        "id": "EUpTVARQGRce",
        "colab_type": "code",
        "colab": {}
      },
      "source": [
        "def load_and_preprocess_image(path):\n",
        "    image = tf.io.read_file(path)\n",
        "    return preprocess_image(image)"
      ],
      "execution_count": 114,
      "outputs": []
    },
    {
      "cell_type": "code",
      "metadata": {
        "id": "VxW9B-rzGUFK",
        "colab_type": "code",
        "colab": {}
      },
      "source": [
        "path_ds = tf.data.Dataset.from_tensor_slices(all_image_paths)\n"
      ],
      "execution_count": 115,
      "outputs": []
    },
    {
      "cell_type": "code",
      "metadata": {
        "id": "DYMhuS2WGWTk",
        "colab_type": "code",
        "colab": {
          "base_uri": "https://localhost:8080/",
          "height": 34
        },
        "outputId": "78d92c32-7993-4a1f-de13-4a3f51405735"
      },
      "source": [
        "print(path_ds)"
      ],
      "execution_count": 116,
      "outputs": [
        {
          "output_type": "stream",
          "text": [
            "<TensorSliceDataset shapes: (), types: tf.string>\n"
          ],
          "name": "stdout"
        }
      ]
    },
    {
      "cell_type": "code",
      "metadata": {
        "id": "ZBGxmbv8GZht",
        "colab_type": "code",
        "colab": {}
      },
      "source": [
        "image_ds = path_ds.map(load_and_preprocess_image, num_parallel_calls=AUTOTUNE)"
      ],
      "execution_count": 117,
      "outputs": []
    },
    {
      "cell_type": "code",
      "metadata": {
        "id": "9l7In4swGdWp",
        "colab_type": "code",
        "colab": {
          "base_uri": "https://localhost:8080/",
          "height": 627
        },
        "outputId": "0f9b8910-b2b0-4e68-835c-17459b7fe775"
      },
      "source": [
        "\n",
        "#Отобразим несколько преобразованных картинок\n",
        "import matplotlib.pyplot as plt\n",
        "\n",
        "plt.figure(figsize=(8,8))\n",
        "for n, image in enumerate(image_ds.take(4)):\n",
        "    plt.subplot(2,2,n+1)\n",
        "    plt.imshow(image)\n",
        "    plt.grid(False)\n",
        "    plt.xticks([])\n",
        "    plt.yticks([])\n",
        "    plt.xlabel(all_image_paths[n])\n",
        "    plt.show()"
      ],
      "execution_count": 118,
      "outputs": [
        {
          "output_type": "display_data",
          "data": {
            "image/png": "[encoded data removed]",
            "text/plain": [
              "<Figure size 576x576 with 1 Axes>"
            ]
          },
          "metadata": {
            "tags": []
          }
        },
        {
          "output_type": "display_data",
          "data": {
            "image/png": "[encoded data removed]",
            "text/plain": [
              "<Figure size 432x288 with 1 Axes>"
            ]
          },
          "metadata": {
            "tags": []
          }
        },
        {
          "output_type": "display_data",
          "data": {
            "image/png": "[encoded data removed]",
            "text/plain": [
              "<Figure size 432x288 with 1 Axes>"
            ]
          },
          "metadata": {
            "tags": []
          }
        },
        {
          "output_type": "display_data",
          "data": {
            "image/png": "[encoded data removed]",
            "text/plain": [
              "<Figure size 432x288 with 1 Axes>"
            ]
          },
          "metadata": {
            "tags": []
          }
        }
      ]
    },
    {
      "cell_type": "code",
      "metadata": {
        "id": "bnQwcsT1GlNr",
        "colab_type": "code",
        "colab": {}
      },
      "source": [
        "#Соберем датасет меток\n",
        "label_ds = tf.data.Dataset.from_tensor_slices(tf.cast(all_image_labels, tf.int64))"
      ],
      "execution_count": 119,
      "outputs": []
    },
    {
      "cell_type": "code",
      "metadata": {
        "id": "A7tz6Kt4GqZG",
        "colab_type": "code",
        "colab": {
          "base_uri": "https://localhost:8080/",
          "height": 119
        },
        "outputId": "d4d1c315-7b1f-4e78-f487-865fe6c50066"
      },
      "source": [
        "#Выведем метки\n",
        "for label in label_ds.take(6):\n",
        "    print(label_names[label.numpy()])"
      ],
      "execution_count": 120,
      "outputs": [
        {
          "output_type": "stream",
          "text": [
            "man\n",
            "woman\n",
            "man\n",
            "man\n",
            "man\n",
            "woman\n"
          ],
          "name": "stdout"
        }
      ]
    },
    {
      "cell_type": "code",
      "metadata": {
        "id": "OSw90j79HGxC",
        "colab_type": "code",
        "colab": {}
      },
      "source": [
        "#Соберем набор данных с помощью метода zip\n",
        "image_label_ds = tf.data.Dataset.zip((image_ds, label_ds))"
      ],
      "execution_count": 121,
      "outputs": []
    },
    {
      "cell_type": "code",
      "metadata": {
        "id": "2veBpphEHMJs",
        "colab_type": "code",
        "colab": {
          "base_uri": "https://localhost:8080/",
          "height": 34
        },
        "outputId": "a1c094b4-c31c-4803-c71e-566f268f237d"
      },
      "source": [
        "print(image_label_ds)"
      ],
      "execution_count": 122,
      "outputs": [
        {
          "output_type": "stream",
          "text": [
            "<ZipDataset shapes: ((128, 128, 3), ()), types: (tf.float32, tf.int64)>\n"
          ],
          "name": "stdout"
        }
      ]
    },
    {
      "cell_type": "markdown",
      "metadata": {
        "id": "h9yJlOgrHQFe",
        "colab_type": "text"
      },
      "source": [
        "## Часть 2\n",
        "Обучение модели\n"
      ]
    },
    {
      "cell_type": "code",
      "metadata": {
        "id": "4Oy4vQFOHcCP",
        "colab_type": "code",
        "colab": {
          "base_uri": "https://localhost:8080/",
          "height": 34
        },
        "outputId": "7bc5908a-498c-4af2-f2ad-9123507cde4b"
      },
      "source": [
        "BATCH_SIZE = 32\n",
        "\n",
        "# Установка размера буфера перемешивания, равного набору данных, гарантирует\n",
        "# полное перемешивание данных.\n",
        "ds = image_label_ds.shuffle(buffer_size=image_count)\n",
        "ds = ds.repeat()\n",
        "ds = ds.batch(BATCH_SIZE)\n",
        "# `prefetch` позволяет датасету извлекать пакеты в фоновом режиме, во время обучения модели.\n",
        "ds = ds.prefetch(buffer_size=AUTOTUNE)\n",
        "ds"
      ],
      "execution_count": 123,
      "outputs": [
        {
          "output_type": "execute_result",
          "data": {
            "text/plain": [
              "<PrefetchDataset shapes: ((None, 128, 128, 3), (None,)), types: (tf.float32, tf.int64)>"
            ]
          },
          "metadata": {
            "tags": []
          },
          "execution_count": 123
        }
      ]
    },
    {
      "cell_type": "code",
      "metadata": {
        "id": "gHz6KJM-HoFg",
        "colab_type": "code",
        "colab": {
          "base_uri": "https://localhost:8080/",
          "height": 34
        },
        "outputId": "b2993499-5a28-488e-a0b0-2e43426f71ab"
      },
      "source": [
        "ds = image_label_ds.apply(\n",
        "  tf.data.experimental.shuffle_and_repeat(buffer_size=image_count))\n",
        "ds = ds.batch(BATCH_SIZE)\n",
        "ds = ds.prefetch(buffer_size=AUTOTUNE)\n",
        "ds"
      ],
      "execution_count": 124,
      "outputs": [
        {
          "output_type": "execute_result",
          "data": {
            "text/plain": [
              "<PrefetchDataset shapes: ((None, 128, 128, 3), (None,)), types: (tf.float32, tf.int64)>"
            ]
          },
          "metadata": {
            "tags": []
          },
          "execution_count": 124
        }
      ]
    },
    {
      "cell_type": "code",
      "metadata": {
        "id": "ESc7HcV5HsxX",
        "colab_type": "code",
        "colab": {}
      },
      "source": [
        "mobile_net = MobileNetV2(input_shape=(128, 128, 3), include_top=False)\n",
        "mobile_net.trainable=False"
      ],
      "execution_count": 125,
      "outputs": []
    },
    {
      "cell_type": "code",
      "metadata": {
        "id": "KhzRgqp7H0WN",
        "colab_type": "code",
        "colab": {}
      },
      "source": [
        "def change_range(image,label):\n",
        "    return 2*image-1, label\n",
        "\n",
        "keras_ds = ds.map(change_range)"
      ],
      "execution_count": 126,
      "outputs": []
    },
    {
      "cell_type": "code",
      "metadata": {
        "id": "XlA8rj2hH3f0",
        "colab_type": "code",
        "colab": {}
      },
      "source": [
        "image_batch, label_batch = next(iter(keras_ds))"
      ],
      "execution_count": 127,
      "outputs": []
    },
    {
      "cell_type": "code",
      "metadata": {
        "id": "HDnom9mbH6mt",
        "colab_type": "code",
        "colab": {
          "base_uri": "https://localhost:8080/",
          "height": 34
        },
        "outputId": "ecfdff1c-faad-42f1-995b-30b57505fc11"
      },
      "source": [
        "feature_map_batch = mobile_net(image_batch)\n",
        "print(feature_map_batch.shape)"
      ],
      "execution_count": 128,
      "outputs": [
        {
          "output_type": "stream",
          "text": [
            "(32, 4, 4, 1280)\n"
          ],
          "name": "stdout"
        }
      ]
    },
    {
      "cell_type": "code",
      "metadata": {
        "id": "I3_IkDBOIAVc",
        "colab_type": "code",
        "colab": {}
      },
      "source": [
        "model = tf.keras.Sequential([\n",
        "  mobile_net,\n",
        "  tf.keras.layers.GlobalAveragePooling2D(),\n",
        "  tf.keras.layers.Dropout(0.5),\n",
        "  tf.keras.layers.Dense(len(label_names), activation = 'softmax')])"
      ],
      "execution_count": 129,
      "outputs": []
    },
    {
      "cell_type": "code",
      "metadata": {
        "id": "1bFOdgcKIDnn",
        "colab_type": "code",
        "colab": {
          "base_uri": "https://localhost:8080/",
          "height": 85
        },
        "outputId": "437d1322-5530-40ba-ef8c-379a81e5a6a4"
      },
      "source": [
        "logit_batch = model(image_batch).numpy()\n",
        "\n",
        "print(\"min logit:\", logit_batch.min())\n",
        "print(\"max logit:\", logit_batch.max())\n",
        "print()\n",
        "\n",
        "print(\"Shape:\", logit_batch.shape)"
      ],
      "execution_count": 130,
      "outputs": [
        {
          "output_type": "stream",
          "text": [
            "min logit: 0.02048682\n",
            "max logit: 0.9795132\n",
            "\n",
            "Shape: (32, 2)\n"
          ],
          "name": "stdout"
        }
      ]
    },
    {
      "cell_type": "code",
      "metadata": {
        "id": "iSaWlXutIIMo",
        "colab_type": "code",
        "colab": {}
      },
      "source": [
        "model.compile(optimizer=tf.keras.optimizers.Adam(),\n",
        "              loss='sparse_categorical_crossentropy',\n",
        "              metrics=[\"accuracy\"])"
      ],
      "execution_count": 131,
      "outputs": []
    },
    {
      "cell_type": "code",
      "metadata": {
        "id": "O-5jNOZyIK6s",
        "colab_type": "code",
        "colab": {
          "base_uri": "https://localhost:8080/",
          "height": 289
        },
        "outputId": "939618ed-b03f-4084-b519-fec6d395f43e"
      },
      "source": [
        "model.summary()"
      ],
      "execution_count": 132,
      "outputs": [
        {
          "output_type": "stream",
          "text": [
            "Model: \"sequential_1\"\n",
            "_________________________________________________________________\n",
            "Layer (type)                 Output Shape              Param #   \n",
            "=================================================================\n",
            "mobilenetv2_1.00_128 (Model) (None, 4, 4, 1280)        2257984   \n",
            "_________________________________________________________________\n",
            "global_average_pooling2d_1 ( (None, 1280)              0         \n",
            "_________________________________________________________________\n",
            "dropout_1 (Dropout)          (None, 1280)              0         \n",
            "_________________________________________________________________\n",
            "dense_1 (Dense)              (None, 2)                 2562      \n",
            "=================================================================\n",
            "Total params: 2,260,546\n",
            "Trainable params: 2,562\n",
            "Non-trainable params: 2,257,984\n",
            "_________________________________________________________________\n"
          ],
          "name": "stdout"
        }
      ]
    },
    {
      "cell_type": "code",
      "metadata": {
        "id": "EtOVbDzqKD2d",
        "colab_type": "code",
        "colab": {
          "base_uri": "https://localhost:8080/",
          "height": 34
        },
        "outputId": "c2f94668-e627-40fb-d403-f505105a95a4"
      },
      "source": [
        "steps_per_epoch=tf.math.ceil(len(all_image_paths)/BATCH_SIZE).numpy()\n",
        "steps_per_epoch"
      ],
      "execution_count": 133,
      "outputs": [
        {
          "output_type": "execute_result",
          "data": {
            "text/plain": [
              "62.0"
            ]
          },
          "metadata": {
            "tags": []
          },
          "execution_count": 133
        }
      ]
    },
    {
      "cell_type": "code",
      "metadata": {
        "id": "-jPvm8R-Mvmy",
        "colab_type": "code",
        "colab": {
          "base_uri": "https://localhost:8080/",
          "height": 527
        },
        "outputId": "b6958e64-14c1-4596-a7c9-09433a263698"
      },
      "source": [
        "model = model.fit(ds, epochs=15, steps_per_epoch=15)"
      ],
      "execution_count": 134,
      "outputs": [
        {
          "output_type": "stream",
          "text": [
            "Epoch 1/15\n",
            "15/15 [==============================] - 6s 373ms/step - loss: 1.0016 - accuracy: 0.5396\n",
            "Epoch 2/15\n",
            "15/15 [==============================] - 5s 365ms/step - loss: 0.5758 - accuracy: 0.7417\n",
            "Epoch 3/15\n",
            "15/15 [==============================] - 6s 367ms/step - loss: 0.4591 - accuracy: 0.8021\n",
            "Epoch 4/15\n",
            "15/15 [==============================] - 6s 371ms/step - loss: 0.3907 - accuracy: 0.8396\n",
            "Epoch 5/15\n",
            "15/15 [==============================] - 6s 368ms/step - loss: 0.3256 - accuracy: 0.8687\n",
            "Epoch 6/15\n",
            "15/15 [==============================] - 5s 366ms/step - loss: 0.3427 - accuracy: 0.8521\n",
            "Epoch 7/15\n",
            "15/15 [==============================] - 6s 376ms/step - loss: 0.3261 - accuracy: 0.8604\n",
            "Epoch 8/15\n",
            "15/15 [==============================] - 6s 367ms/step - loss: 0.2656 - accuracy: 0.9021\n",
            "Epoch 9/15\n",
            "15/15 [==============================] - 6s 368ms/step - loss: 0.2483 - accuracy: 0.9062\n",
            "Epoch 10/15\n",
            "15/15 [==============================] - 6s 369ms/step - loss: 0.2657 - accuracy: 0.8958\n",
            "Epoch 11/15\n",
            "15/15 [==============================] - 6s 377ms/step - loss: 0.2594 - accuracy: 0.8896\n",
            "Epoch 12/15\n",
            "15/15 [==============================] - 6s 369ms/step - loss: 0.2403 - accuracy: 0.9062\n",
            "Epoch 13/15\n",
            "15/15 [==============================] - 5s 366ms/step - loss: 0.2318 - accuracy: 0.9125\n",
            "Epoch 14/15\n",
            "15/15 [==============================] - 5s 365ms/step - loss: 0.2813 - accuracy: 0.8792\n",
            "Epoch 15/15\n",
            "15/15 [==============================] - 6s 368ms/step - loss: 0.2161 - accuracy: 0.9042\n"
          ],
          "name": "stdout"
        }
      ]
    },
    {
      "cell_type": "code",
      "metadata": {
        "id": "tjexEfkiPOWW",
        "colab_type": "code",
        "colab": {
          "base_uri": "https://localhost:8080/",
          "height": 34
        },
        "outputId": "250c2c3e-7b8f-4311-840d-46c8158f9627"
      },
      "source": [
        "print(model.history.keys())"
      ],
      "execution_count": 139,
      "outputs": [
        {
          "output_type": "stream",
          "text": [
            "dict_keys(['loss', 'accuracy'])\n"
          ],
          "name": "stdout"
        }
      ]
    },
    {
      "cell_type": "code",
      "metadata": {
        "id": "FV5DmiRXOwVn",
        "colab_type": "code",
        "colab": {
          "base_uri": "https://localhost:8080/",
          "height": 337
        },
        "outputId": "8f7749f9-d4ae-40f5-ca33-f9cbb581960c"
      },
      "source": [
        "plt.subplot(211)  \n",
        "plt.plot(model.history['accuracy'])  \n",
        "plt.title('model accuracy')  \n",
        "plt.ylabel('accuracy')  \n",
        "plt.xlabel('epoch')  \n",
        "plt.legend(['accuracy']) \n",
        "plt.show()\n",
        "\n",
        "plt.subplot(212)  \n",
        "plt.plot(model.history['loss'])  \n",
        "plt.title('model loss')  \n",
        "plt.ylabel('loss')  \n",
        "plt.xlabel('epoch')  \n",
        "plt.legend(['loss'], loc='upper right') \n",
        "plt.show()"
      ],
      "execution_count": 140,
      "outputs": [
        {
          "output_type": "display_data",
          "data": {
            "image/png": "[encoded data removed]",
            "text/plain": [
              "<Figure size 432x288 with 1 Axes>"
            ]
          },
          "metadata": {
            "tags": [],
            "needs_background": "light"
          }
        },
        {
          "output_type": "display_data",
          "data": {
            "image/png": "[encoded data removed]",
            "text/plain": [
              "<Figure size 432x288 with 1 Axes>"
            ]
          },
          "metadata": {
            "tags": [],
            "needs_background": "light"
          }
        }
      ]
    },
    {
      "cell_type": "markdown",
      "metadata": {
        "id": "AEDRazhdCYlD",
        "colab_type": "text"
      },
      "source": [
        "# Список литературы\n",
        "[1] MobileNet: меньше, быстрее, точнее – https://habr.com/ru/post/352804/\n",
        "\n",
        "[2] Transfer Learning Using Pretrained ConvNets – https://www.tensorflow.org/alpha/tutorials/images/transfer_learning\n",
        "\n",
        "[3] Natural Images – https://www.kaggle.com/prasunroy/natural-images\n",
        "\n",
        "[4] Load images with tf.data – https://www.tensorflow.org/alpha/tutorials/load_data/images\n"
      ]
    }
  ]
}